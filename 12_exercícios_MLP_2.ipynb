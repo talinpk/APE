{
  "nbformat": 4,
  "nbformat_minor": 0,
  "metadata": {
    "colab": {
      "provenance": [],
      "include_colab_link": true
    },
    "kernelspec": {
      "name": "python3",
      "display_name": "Python 3"
    },
    "language_info": {
      "name": "python"
    }
  },
  "cells": [
    {
      "cell_type": "markdown",
      "metadata": {
        "id": "view-in-github",
        "colab_type": "text"
      },
      "source": [
        "<a href=\"https://colab.research.google.com/github/talinpk/APE/blob/main/12_exerc%C3%ADcios_MLP_2.ipynb\" target=\"_parent\"><img src=\"https://colab.research.google.com/assets/colab-badge.svg\" alt=\"Open In Colab\"/></a>"
      ]
    },
    {
      "cell_type": "code",
      "execution_count": null,
      "metadata": {
        "id": "UiwNFZi0EwsL"
      },
      "outputs": [],
      "source": [
        "## Exercício 1 - Dataset Digits do sklearn\n",
        "\n",
        "# Acesso: https://scikit-learn.org/stable/modules/generated/sklearn.datasets.load_digits.html#sklearn.datasets.load_digits\n",
        "# 1) Importar o pacote \"sklearn.datasets\" e o \"load_digits\"\n",
        "from sklearn.datasets import load_digits\n",
        "from sklearn.model_selection import train_test_split\n",
        "from sklearn.cluster import KMeans\n",
        "from sklearn import metrics\n",
        "from collections import Counter\n",
        "\n",
        "# 2) Carregar o dataset através do método: load_digits()\n",
        "dataset = load_digits()\n",
        "\n",
        "# 3) Observe as keys do dataset usando o método \"keys\"\n",
        "dataset.keys()\n",
        "# 4) A chave \"data\" são as features e a chave \"target\" é o y. Separe os dados em 2 variáveis diferentes\n",
        "x = dataset.data\n",
        "y = dataset.target\n",
        "\n",
        "# 5) Separe o conjunto de dados em treinamento e teste usando o método: \"train_test_split\"\n",
        "X_train, X_test, y_train, y_test = train_test_split(x, y, test_size=0.2, stratify=y)\n",
        "\n",
        "# 6) Treinar o K-Means, sendo o K seja igual ao número de classes do dataset\n",
        "myset = set(y_train)\n",
        "clusters = len(myset)\n",
        "model = KMeans(n_clusters = clusters)\n",
        "model = model.fit(X_train)\n",
        "\n",
        "labels = model.labels_\n",
        "\n",
        "map_labels = []\n",
        "\n",
        "for i in range(clusters):\n",
        "  map_labels.append([])\n",
        "\n",
        "new_y_train = y_train.tolist()\n",
        "\n",
        "for i in range(len(y_train)):\n",
        "  for c in range(clusters):\n",
        "    if labels[i] == c:\n",
        "      map_labels[c].append(new_y_train[i])\n",
        "\n",
        "#print(map_labels)\n",
        "\n",
        "# Criar dicionário com os labells a serem mapeados\n",
        "mapping = {}\n",
        "\n",
        "for i in range(clusters):\n",
        "  final = Counter(map_labels[i]) # contar a classe que mais aparece\n",
        "  value = final.most_common(1)[0][0] # retorna a classe com maior frequência\n",
        "  mapping[i] = value\n",
        "\n",
        "#print(mapping)\n",
        "\n",
        " #(Lembre-se que o predict do K-Means irá retornar o cluster que o dado pertence mas não necessariamente esse número do cluster é a classe correta. Não esqueça de fazer o mapeamento do \"cluster x classe\",\n",
        " # conforme feito no link: https://colab.research.google.com/github/tmoura/machinelearning/blob/master/KMeans.ipynb)\n",
        "# 7) Mostrar a taxa de acerto do K-Means\n",
        "\n",
        "result = model.predict(X_test)\n",
        "result = [mapping[i] for i in result]\n",
        "\n",
        "acc = metrics.accuracy_score(result, y_test)\n",
        "show = round(acc * 100)\n",
        "print(\"{}%\".format(show))\n",
        "\n",
        "print(list(result))\n",
        "print(list(y_test))\n"
      ]
    },
    {
      "cell_type": "code",
      "source": [
        "## Exercício 2 - Dataset Diabetes do sklearn (Base de Dados de Regressão)\n",
        "\n",
        "# Acesso: https://scikit-learn.org/stable/modules/generated/sklearn.datasets.load_diabetes.html#sklearn.datasets.load_diabetes\n",
        "\n",
        "# 1) Importar o pacote \"sklearn.datasets\" e o \"load_diabetes\"\n",
        "# 2) Carregar o dataset através do método: load_diabetes()\n",
        "# 3) Observe as keys do dataset usando o método \"keys\"\n",
        "# 4) A chave \"data\" são as features e a chave \"target\" é o y. Separe os dados em 2 variáveis diferentes\n",
        "# 5) Verificar a dimensionalidade das features através da variável shape\n",
        "# 6) Separe o conjunto de dados em treinamento e teste usando o método: \"train_test_split\"\n",
        "# 7) Treinar MLP (2 topologias diferentes) - MLPRegressor()\n",
        "# 8) Treinar Árvore de Decisão - DecisionTreeRegressor()\n",
        "# 9) Treinar Árvore de Decisão com max_depth = 2 - DecisionTreeRegressor()\n",
        "# 10) Treinar KNN (com duas características diferentes) - KNeighborsRegressor()\n",
        "# 11) Treinar o modelo de Regressão Linear - LinearRegression()\n",
        "# 12) Usar o MSE (Mean Squared Error) pra avaliar os modelos:\n",
        "# Exemplo: print(\"MSE: %.2f\" % mean_squared_error(teste_y, prediction))"
      ],
      "metadata": {
        "id": "_362ExMzHvvB"
      },
      "execution_count": null,
      "outputs": []
    }
  ]
}